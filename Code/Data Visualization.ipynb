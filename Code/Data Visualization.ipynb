{
 "cells": [
  {
   "cell_type": "code",
   "execution_count": 1,
   "metadata": {},
   "outputs": [],
   "source": [
    "import pandas as pd\n",
    "import csv"
   ]
  },
  {
   "cell_type": "code",
   "execution_count": 2,
   "metadata": {},
   "outputs": [],
   "source": [
    "filename = \"top10venues.csv\"\n",
    "\n",
    "df = pd.read_csv(filename)\n",
    "\n",
    "opened_file = open(filename)\n",
    "read_file = csv.reader(opened_file)\n",
    "all_rows = list(read_file)\n",
    "header = all_rows[0]\n",
    "rows = all_rows[1:]"
   ]
  },
  {
   "cell_type": "code",
   "execution_count": 3,
   "metadata": {
    "scrolled": true
   },
   "outputs": [
    {
     "data": {
      "text/html": [
       "<div>\n",
       "<style scoped>\n",
       "    .dataframe tbody tr th:only-of-type {\n",
       "        vertical-align: middle;\n",
       "    }\n",
       "\n",
       "    .dataframe tbody tr th {\n",
       "        vertical-align: top;\n",
       "    }\n",
       "\n",
       "    .dataframe thead th {\n",
       "        text-align: right;\n",
       "    }\n",
       "</style>\n",
       "<table border=\"1\" class=\"dataframe\">\n",
       "  <thead>\n",
       "    <tr style=\"text-align: right;\">\n",
       "      <th></th>\n",
       "      <th>Neighborhood</th>\n",
       "      <th>1st Most Common Venue</th>\n",
       "      <th>2nd Most Common Venue</th>\n",
       "      <th>3rd Most Common Venue</th>\n",
       "      <th>4th Most Common Venue</th>\n",
       "      <th>5th Most Common Venue</th>\n",
       "      <th>6th Most Common Venue</th>\n",
       "      <th>7th Most Common Venue</th>\n",
       "      <th>8th Most Common Venue</th>\n",
       "      <th>9th Most Common Venue</th>\n",
       "      <th>10th Most Common Venue</th>\n",
       "      <th>Count</th>\n",
       "      <th>Cluster</th>\n",
       "    </tr>\n",
       "  </thead>\n",
       "  <tbody>\n",
       "    <tr>\n",
       "      <td>0</td>\n",
       "      <td>Bayview</td>\n",
       "      <td>Southern / Soul Food Restaurant</td>\n",
       "      <td>Mexican Restaurant</td>\n",
       "      <td>Light Rail Station</td>\n",
       "      <td>Bakery</td>\n",
       "      <td>Theater</td>\n",
       "      <td>Park</td>\n",
       "      <td>Plaza</td>\n",
       "      <td>Dumpling Restaurant</td>\n",
       "      <td>Coffee Shop</td>\n",
       "      <td>Chinese Restaurant</td>\n",
       "      <td>26</td>\n",
       "      <td>5</td>\n",
       "    </tr>\n",
       "    <tr>\n",
       "      <td>1</td>\n",
       "      <td>Castro, Noe Valley</td>\n",
       "      <td>Gay Bar</td>\n",
       "      <td>Thai Restaurant</td>\n",
       "      <td>Coffee Shop</td>\n",
       "      <td>Indian Restaurant</td>\n",
       "      <td>Scenic Lookout</td>\n",
       "      <td>Yoga Studio</td>\n",
       "      <td>Pet Store</td>\n",
       "      <td>Deli / Bodega</td>\n",
       "      <td>cafe</td>\n",
       "      <td>Convenience Store</td>\n",
       "      <td>82</td>\n",
       "      <td>5</td>\n",
       "    </tr>\n",
       "    <tr>\n",
       "      <td>2</td>\n",
       "      <td>Chinatown</td>\n",
       "      <td>Hotel</td>\n",
       "      <td>Coffee Shop</td>\n",
       "      <td>Bakery</td>\n",
       "      <td>Tea Room</td>\n",
       "      <td>Chinese Restaurant</td>\n",
       "      <td>Men's Store</td>\n",
       "      <td>Italian Restaurant</td>\n",
       "      <td>Bubble Tea Shop</td>\n",
       "      <td>Sushi Restaurant</td>\n",
       "      <td>Dim Sum Restaurant</td>\n",
       "      <td>82</td>\n",
       "      <td>5</td>\n",
       "    </tr>\n",
       "    <tr>\n",
       "      <td>3</td>\n",
       "      <td>Cow Hollow, Marina District</td>\n",
       "      <td>French Restaurant</td>\n",
       "      <td>Italian Restaurant</td>\n",
       "      <td>Wine Bar</td>\n",
       "      <td>Gym / Fitness Center</td>\n",
       "      <td>Sandwich Place</td>\n",
       "      <td>Sushi Restaurant</td>\n",
       "      <td>Deli / Bodega</td>\n",
       "      <td>Park</td>\n",
       "      <td>Cosmetics Shop</td>\n",
       "      <td>Coffee Shop</td>\n",
       "      <td>77</td>\n",
       "      <td>5</td>\n",
       "    </tr>\n",
       "    <tr>\n",
       "      <td>4</td>\n",
       "      <td>Embarcadero North</td>\n",
       "      <td>Food Truck</td>\n",
       "      <td>Scenic Lookout</td>\n",
       "      <td>cafe</td>\n",
       "      <td>Coffee Shop</td>\n",
       "      <td>Men's Store</td>\n",
       "      <td>Italian Restaurant</td>\n",
       "      <td>Wine Bar</td>\n",
       "      <td>New American Restaurant</td>\n",
       "      <td>Park</td>\n",
       "      <td>Cosmetics Shop</td>\n",
       "      <td>100</td>\n",
       "      <td>5</td>\n",
       "    </tr>\n",
       "  </tbody>\n",
       "</table>\n",
       "</div>"
      ],
      "text/plain": [
       "                  Neighborhood            1st Most Common Venue  \\\n",
       "0                      Bayview  Southern / Soul Food Restaurant   \n",
       "1           Castro, Noe Valley                          Gay Bar   \n",
       "2                    Chinatown                            Hotel   \n",
       "3  Cow Hollow, Marina District                French Restaurant   \n",
       "4            Embarcadero North                       Food Truck   \n",
       "\n",
       "  2nd Most Common Venue 3rd Most Common Venue 4th Most Common Venue  \\\n",
       "0    Mexican Restaurant    Light Rail Station                Bakery   \n",
       "1       Thai Restaurant           Coffee Shop     Indian Restaurant   \n",
       "2           Coffee Shop                Bakery              Tea Room   \n",
       "3    Italian Restaurant              Wine Bar  Gym / Fitness Center   \n",
       "4        Scenic Lookout                  cafe           Coffee Shop   \n",
       "\n",
       "  5th Most Common Venue 6th Most Common Venue 7th Most Common Venue  \\\n",
       "0               Theater                  Park                 Plaza   \n",
       "1        Scenic Lookout           Yoga Studio             Pet Store   \n",
       "2    Chinese Restaurant           Men's Store    Italian Restaurant   \n",
       "3        Sandwich Place      Sushi Restaurant         Deli / Bodega   \n",
       "4           Men's Store    Italian Restaurant              Wine Bar   \n",
       "\n",
       "     8th Most Common Venue 9th Most Common Venue 10th Most Common Venue  \\\n",
       "0      Dumpling Restaurant           Coffee Shop     Chinese Restaurant   \n",
       "1            Deli / Bodega                  cafe      Convenience Store   \n",
       "2          Bubble Tea Shop      Sushi Restaurant     Dim Sum Restaurant   \n",
       "3                     Park        Cosmetics Shop            Coffee Shop   \n",
       "4  New American Restaurant                  Park         Cosmetics Shop   \n",
       "\n",
       "   Count  Cluster  \n",
       "0     26        5  \n",
       "1     82        5  \n",
       "2     82        5  \n",
       "3     77        5  \n",
       "4    100        5  "
      ]
     },
     "execution_count": 3,
     "metadata": {},
     "output_type": "execute_result"
    }
   ],
   "source": [
    "df.head()"
   ]
  },
  {
   "cell_type": "markdown",
   "metadata": {},
   "source": [
    "#### Explore frequency of venues' categories in San Francisco"
   ]
  },
  {
   "cell_type": "code",
   "execution_count": 4,
   "metadata": {},
   "outputs": [],
   "source": [
    "freq_all = {}\n",
    "\n",
    "for row in rows:\n",
    "    for venue in row[1:11]:\n",
    "        if venue in freq_all:\n",
    "            freq_all[venue] += 1\n",
    "        else:\n",
    "            freq_all[venue] = 1\n",
    "\n",
    "freq_all = sorted(freq_all.items(), key=lambda x: x[1], reverse=True)  \n",
    "freq_all = dict(freq_all)"
   ]
  },
  {
   "cell_type": "code",
   "execution_count": 5,
   "metadata": {},
   "outputs": [
    {
     "data": {
      "text/plain": [
       "{'Coffee Shop': 16,\n",
       " 'cafe': 14,\n",
       " 'Park': 10,\n",
       " 'Chinese Restaurant': 8,\n",
       " 'Pizza Place': 8,\n",
       " 'Sandwich Place': 7,\n",
       " 'Food Truck': 7,\n",
       " 'Bakery': 6,\n",
       " 'Italian Restaurant': 6,\n",
       " 'Deli / Bodega': 5,\n",
       " 'Sushi Restaurant': 5,\n",
       " 'Mexican Restaurant': 4,\n",
       " 'Wine Bar': 4,\n",
       " 'Cosmetics Shop': 4,\n",
       " 'Japanese Restaurant': 4,\n",
       " 'Thai Restaurant': 3,\n",
       " 'Yoga Studio': 3,\n",
       " \"Men's Store\": 3,\n",
       " 'Bubble Tea Shop': 3,\n",
       " 'French Restaurant': 3,\n",
       " 'Gym / Fitness Center': 3,\n",
       " 'Gym': 3,\n",
       " 'Cocktail Bar': 3,\n",
       " 'Boutique': 3,\n",
       " 'Playground': 3,\n",
       " 'Vietnamese Restaurant': 3,\n",
       " 'Grocery Store': 3,\n",
       " 'Food & Drink Shop': 3,\n",
       " 'Trail': 3,\n",
       " 'Light Rail Station': 2,\n",
       " 'Theater': 2,\n",
       " 'Dumpling Restaurant': 2,\n",
       " 'Gay Bar': 2,\n",
       " 'Scenic Lookout': 2,\n",
       " 'Pet Store': 2,\n",
       " 'Convenience Store': 2,\n",
       " 'Hotel': 2,\n",
       " 'Dim Sum Restaurant': 2,\n",
       " 'New American Restaurant': 2,\n",
       " 'Art Gallery': 2,\n",
       " 'Shoe Store': 2,\n",
       " 'Bookstore': 2,\n",
       " 'Bus Station': 2,\n",
       " 'Pharmacy': 2,\n",
       " 'Korean Restaurant': 2,\n",
       " 'Liquor Store': 2,\n",
       " 'Wine Shop': 2,\n",
       " 'Field': 2,\n",
       " 'Garden': 2,\n",
       " 'Wings Joint': 2,\n",
       " 'Food Stand': 2,\n",
       " 'Food Court': 2,\n",
       " 'Southern / Soul Food Restaurant': 1,\n",
       " 'Plaza': 1,\n",
       " 'Indian Restaurant': 1,\n",
       " 'Tea Room': 1,\n",
       " 'Salad Place': 1,\n",
       " 'Lounge': 1,\n",
       " 'Street Food Gathering': 1,\n",
       " 'Thrift / Vintage Store': 1,\n",
       " 'Supermarket': 1,\n",
       " 'Gastropub': 1,\n",
       " 'Poke Place': 1,\n",
       " 'Gas Station': 1,\n",
       " 'Furniture / Home Store': 1,\n",
       " 'Metro Station': 1,\n",
       " 'Juice Bar': 1,\n",
       " 'Candy Store': 1,\n",
       " 'Snack Place': 1,\n",
       " 'Clothing Store': 1,\n",
       " 'Dive Bar': 1,\n",
       " 'Dry Cleaner': 1,\n",
       " 'American Restaurant': 1,\n",
       " 'Dessert Shop': 1,\n",
       " 'Spa': 1,\n",
       " 'Arts & Crafts Store': 1,\n",
       " 'Diner': 1,\n",
       " 'Breakfast Spot': 1,\n",
       " 'Deli/Bodega': 1,\n",
       " 'Gym/ Fitness Center': 1,\n",
       " 'Rock Club': 1,\n",
       " 'Museum': 1,\n",
       " 'Bed & Breakfast': 1,\n",
       " 'Gift Shop': 1,\n",
       " 'Movie Theater': 1,\n",
       " 'Sporting Goods Shop': 1,\n",
       " 'Bowling Alley': 1,\n",
       " 'Burmese Restaurant': 1,\n",
       " 'Massage Studio': 1,\n",
       " 'Nightclub': 1,\n",
       " 'Motorcycle Shop': 1,\n",
       " 'Bar': 1,\n",
       " 'Restaurant': 1,\n",
       " 'Bus Line': 1,\n",
       " 'Frozen Yogurt Shop': 1,\n",
       " 'Fountain': 1,\n",
       " 'Electronics Store': 1,\n",
       " 'Eye Doctor': 1,\n",
       " 'Athletics & Sports': 1,\n",
       " 'Outdoors & Recreation': 1,\n",
       " 'Shopping Mall': 1,\n",
       " 'Baseball Field': 1,\n",
       " 'Fish Market': 1,\n",
       " 'Fast Food Restaurant': 1,\n",
       " 'Filipino Restaurant': 1,\n",
       " 'Flower Shop': 1}"
      ]
     },
     "execution_count": 5,
     "metadata": {},
     "output_type": "execute_result"
    }
   ],
   "source": [
    "freq_all"
   ]
  },
  {
   "cell_type": "markdown",
   "metadata": {},
   "source": [
    "#### Divide data by cluster labels"
   ]
  },
  {
   "cell_type": "code",
   "execution_count": 6,
   "metadata": {},
   "outputs": [],
   "source": [
    "for i in range(1,6):\n",
    "    var_name = \"cluster_{}\".format(i)\n",
    "    freq_name = \"cluster_{}_freq\".format(i)\n",
    "    vars()[var_name] = [] "
   ]
  },
  {
   "cell_type": "code",
   "execution_count": 7,
   "metadata": {},
   "outputs": [],
   "source": [
    "for i,value in enumerate(df['Cluster']):\n",
    "    if value in range(1,6):\n",
    "        var_name = \"cluster_{}\".format(value)\n",
    "        vars()[var_name].append(rows[i])"
   ]
  },
  {
   "cell_type": "markdown",
   "metadata": {},
   "source": [
    "#### Explore frequency of venues' categories in each cluster"
   ]
  },
  {
   "cell_type": "code",
   "execution_count": 8,
   "metadata": {},
   "outputs": [],
   "source": [
    "for i in range(1,6):\n",
    "    var_name = \"cluster_{}\".format(i)\n",
    "    freq_name = \"cluster_{}_freq\".format(i)\n",
    "    vars()[freq_name] = {}\n",
    "    for row in vars()[var_name]:\n",
    "        for venue in row[1:11]:\n",
    "            if venue in vars()[freq_name]:\n",
    "                vars()[freq_name][venue] += 1\n",
    "            else:\n",
    "                vars()[freq_name][venue] = 1\n",
    "    vars()[freq_name] = sorted(vars()[freq_name].items(), key=lambda x: x[1], reverse=True)\n",
    "    vars()[freq_name] = dict(vars()[freq_name])"
   ]
  },
  {
   "cell_type": "code",
   "execution_count": 9,
   "metadata": {},
   "outputs": [
    {
     "data": {
      "text/plain": [
       "{'Coffee Shop': 4,\n",
       " 'Park': 4,\n",
       " 'Pizza Place': 2,\n",
       " 'Grocery Store': 2,\n",
       " 'Deli / Bodega': 2,\n",
       " 'cafe': 2,\n",
       " 'Trail': 2,\n",
       " 'Mexican Restaurant': 1,\n",
       " 'Gym / Fitness Center': 1,\n",
       " 'Dive Bar': 1,\n",
       " 'Dry Cleaner': 1,\n",
       " 'Food & Drink Shop': 1,\n",
       " 'Italian Restaurant': 1,\n",
       " 'Bakery': 1,\n",
       " 'Chinese Restaurant': 1,\n",
       " 'Yoga Studio': 1,\n",
       " 'Breakfast Spot': 1,\n",
       " 'Deli/Bodega': 1,\n",
       " 'Wine Shop': 1,\n",
       " 'French Restaurant': 1,\n",
       " 'Gym/ Fitness Center': 1,\n",
       " 'Bookstore': 1,\n",
       " 'Rock Club': 1,\n",
       " 'Athletics & Sports': 1,\n",
       " 'Korean Restaurant': 1,\n",
       " 'Outdoors & Recreation': 1,\n",
       " 'Playground': 1,\n",
       " 'Shopping Mall': 1,\n",
       " 'Dim Sum Restaurant': 1}"
      ]
     },
     "execution_count": 9,
     "metadata": {},
     "output_type": "execute_result"
    }
   ],
   "source": [
    "cluster_1_freq"
   ]
  },
  {
   "cell_type": "code",
   "execution_count": 10,
   "metadata": {},
   "outputs": [
    {
     "data": {
      "text/plain": [
       "{'Garden': 1,\n",
       " 'Baseball Field': 1,\n",
       " 'Trail': 1,\n",
       " 'Park': 1,\n",
       " 'Wings Joint': 1,\n",
       " 'Fish Market': 1,\n",
       " 'Fast Food Restaurant': 1,\n",
       " 'Field': 1,\n",
       " 'Filipino Restaurant': 1,\n",
       " 'Flower Shop': 1}"
      ]
     },
     "execution_count": 10,
     "metadata": {},
     "output_type": "execute_result"
    }
   ],
   "source": [
    "cluster_2_freq"
   ]
  },
  {
   "cell_type": "code",
   "execution_count": 11,
   "metadata": {},
   "outputs": [
    {
     "data": {
      "text/plain": [
       "{'Garden': 1,\n",
       " 'Bus Line': 1,\n",
       " 'Wings Joint': 1,\n",
       " 'Frozen Yogurt Shop': 1,\n",
       " 'French Restaurant': 1,\n",
       " 'Fountain': 1,\n",
       " 'Food Truck': 1,\n",
       " 'Food Stand': 1,\n",
       " 'Food Court': 1,\n",
       " 'Food & Drink Shop': 1}"
      ]
     },
     "execution_count": 11,
     "metadata": {},
     "output_type": "execute_result"
    }
   ],
   "source": [
    "cluster_3_freq"
   ]
  },
  {
   "cell_type": "code",
   "execution_count": 12,
   "metadata": {},
   "outputs": [
    {
     "data": {
      "text/plain": [
       "{'Chinese Restaurant': 1,\n",
       " 'Pharmacy': 1,\n",
       " 'Electronics Store': 1,\n",
       " 'cafe': 1,\n",
       " 'Liquor Store': 1,\n",
       " 'Playground': 1,\n",
       " 'Food Stand': 1,\n",
       " 'Food Court': 1,\n",
       " 'Food & Drink Shop': 1,\n",
       " 'Eye Doctor': 1}"
      ]
     },
     "execution_count": 12,
     "metadata": {},
     "output_type": "execute_result"
    }
   ],
   "source": [
    "cluster_4_freq"
   ]
  },
  {
   "cell_type": "code",
   "execution_count": 13,
   "metadata": {},
   "outputs": [
    {
     "data": {
      "text/plain": [
       "{'Coffee Shop': 12,\n",
       " 'cafe': 11,\n",
       " 'Sandwich Place': 7,\n",
       " 'Chinese Restaurant': 6,\n",
       " 'Food Truck': 6,\n",
       " 'Pizza Place': 6,\n",
       " 'Bakery': 5,\n",
       " 'Park': 5,\n",
       " 'Italian Restaurant': 5,\n",
       " 'Sushi Restaurant': 5,\n",
       " 'Wine Bar': 4,\n",
       " 'Cosmetics Shop': 4,\n",
       " 'Japanese Restaurant': 4,\n",
       " 'Mexican Restaurant': 3,\n",
       " 'Thai Restaurant': 3,\n",
       " 'Deli / Bodega': 3,\n",
       " \"Men's Store\": 3,\n",
       " 'Bubble Tea Shop': 3,\n",
       " 'Gym': 3,\n",
       " 'Cocktail Bar': 3,\n",
       " 'Boutique': 3,\n",
       " 'Vietnamese Restaurant': 3,\n",
       " 'Light Rail Station': 2,\n",
       " 'Theater': 2,\n",
       " 'Dumpling Restaurant': 2,\n",
       " 'Gay Bar': 2,\n",
       " 'Scenic Lookout': 2,\n",
       " 'Yoga Studio': 2,\n",
       " 'Pet Store': 2,\n",
       " 'Convenience Store': 2,\n",
       " 'Hotel': 2,\n",
       " 'Gym / Fitness Center': 2,\n",
       " 'New American Restaurant': 2,\n",
       " 'Art Gallery': 2,\n",
       " 'Shoe Store': 2,\n",
       " 'Bus Station': 2,\n",
       " 'Southern / Soul Food Restaurant': 1,\n",
       " 'Plaza': 1,\n",
       " 'Indian Restaurant': 1,\n",
       " 'Tea Room': 1,\n",
       " 'Dim Sum Restaurant': 1,\n",
       " 'French Restaurant': 1,\n",
       " 'Salad Place': 1,\n",
       " 'Lounge': 1,\n",
       " 'Street Food Gathering': 1,\n",
       " 'Thrift / Vintage Store': 1,\n",
       " 'Playground': 1,\n",
       " 'Supermarket': 1,\n",
       " 'Gastropub': 1,\n",
       " 'Bookstore': 1,\n",
       " 'Poke Place': 1,\n",
       " 'Gas Station': 1,\n",
       " 'Furniture / Home Store': 1,\n",
       " 'Metro Station': 1,\n",
       " 'Juice Bar': 1,\n",
       " 'Candy Store': 1,\n",
       " 'Snack Place': 1,\n",
       " 'Clothing Store': 1,\n",
       " 'American Restaurant': 1,\n",
       " 'Dessert Shop': 1,\n",
       " 'Pharmacy': 1,\n",
       " 'Korean Restaurant': 1,\n",
       " 'Liquor Store': 1,\n",
       " 'Spa': 1,\n",
       " 'Arts & Crafts Store': 1,\n",
       " 'Grocery Store': 1,\n",
       " 'Diner': 1,\n",
       " 'Museum': 1,\n",
       " 'Bed & Breakfast': 1,\n",
       " 'Gift Shop': 1,\n",
       " 'Field': 1,\n",
       " 'Movie Theater': 1,\n",
       " 'Sporting Goods Shop': 1,\n",
       " 'Bowling Alley': 1,\n",
       " 'Burmese Restaurant': 1,\n",
       " 'Massage Studio': 1,\n",
       " 'Wine Shop': 1,\n",
       " 'Nightclub': 1,\n",
       " 'Motorcycle Shop': 1,\n",
       " 'Bar': 1,\n",
       " 'Restaurant': 1}"
      ]
     },
     "execution_count": 13,
     "metadata": {},
     "output_type": "execute_result"
    }
   ],
   "source": [
    "cluster_5_freq"
   ]
  },
  {
   "cell_type": "code",
   "execution_count": null,
   "metadata": {},
   "outputs": [],
   "source": []
  }
 ],
 "metadata": {
  "kernelspec": {
   "display_name": "Python 3",
   "language": "python",
   "name": "python3"
  },
  "language_info": {
   "codemirror_mode": {
    "name": "ipython",
    "version": 3
   },
   "file_extension": ".py",
   "mimetype": "text/x-python",
   "name": "python",
   "nbconvert_exporter": "python",
   "pygments_lexer": "ipython3",
   "version": "3.7.3"
  }
 },
 "nbformat": 4,
 "nbformat_minor": 2
}
